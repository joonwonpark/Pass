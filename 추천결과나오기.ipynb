{
 "cells": [
  {
   "cell_type": "code",
   "execution_count": 2,
   "metadata": {},
   "outputs": [],
   "source": [
    "import requests\n",
    "import matplotlib.pyplot as plt\n",
    "import matplotlib.image as mpimg\n",
    "from matplotlib.pyplot import imshow\n",
    "import numpy as np\n",
    "import pandas as pd\n",
    "import sys\n",
    "from PIL import Image, ImageDraw, ImageFont\n",
    "import json\n",
    "import cv2\n",
    "import os\n",
    "import time\n",
    "import tensorflow as tf\n",
    "from keras import layers, Input, models, optimizers\n",
    "from keras.models import Model, Sequential\n",
    "from keras.models import load_model\n",
    "from keras import layers, Input, models, optimizers\n",
    "from keras.layers import MaxPooling2D, Conv2D\n",
    "from keras.layers import Activation, Dropout, Flatten, Dense\n",
    "from keras.callbacks import ModelCheckpoint\n",
    "from keras.layers.normalization import BatchNormalization\n",
    "from keras.preprocessing.image import ImageDataGenerator\n",
    "from keras.applications import VGG16"
   ]
  },
  {
   "cell_type": "code",
   "execution_count": 3,
   "metadata": {},
   "outputs": [],
   "source": [
    "model_pattern = './model/pattern_9985.h5'\n",
    "var_pattern =  ['Check', 'Dot', 'Floral', 'Graphic', 'Leopard', 'None', 'Stripe']\n",
    "\n",
    "model_top = './model/upper_9978.h5'\n",
    "var_top = ['Hoodie', 'Long-sleeve-tee', 'Shirts', 'Short-sleeve-tee', 'Sweater',]\n",
    "\n",
    "model_bottom = './model/lower0425_9990.h5'\n",
    "var_bottom = ['Chiffon-skirt', 'Cotten-long-pants', 'Cutoffs', 'H-line-skirt', 'Jeans']\n",
    "\n",
    "model_style = './model/style_model_1_90,63.h5'\n",
    "var_style =  ['Casual', 'Feminine', 'Formal']"
   ]
  },
  {
   "cell_type": "code",
   "execution_count": 4,
   "metadata": {},
   "outputs": [],
   "source": [
    "conv_base = VGG16(weights = 'imagenet',include_top=False,input_shape=(150,150,3))\n",
    "\n",
    "top_model = models.Sequential()\n",
    "top_model.add(layers.Dense(256, activation='relu', input_dim = 4 * 4 * 512))\n",
    "top_model.add(layers.Dropout(0.5))\n",
    "top_model.add(layers.Dense(4, activation='softmax'))\n",
    "top_model.compile(optimizer = optimizers.RMSprop(lr=2e-5),\n",
    "                      loss='categorical_crossentropy',\n",
    "                      metrics=['acc'])\n",
    "top_model.load_weights(model_top)"
   ]
  },
  {
   "cell_type": "code",
   "execution_count": 5,
   "metadata": {},
   "outputs": [],
   "source": [
    "pattern_model = models.Sequential()\n",
    "pattern_model.add(layers.Dense(256, activation='relu', input_dim = 4 * 4 * 512))\n",
    "pattern_model.add(layers.Dropout(0.5))\n",
    "pattern_model.add(layers.Dense(7, activation='softmax'))\n",
    "pattern_model.compile(optimizer = optimizers.RMSprop(lr=2e-5),\n",
    "                      loss='categorical_crossentropy',\n",
    "                      metrics=['acc'])\n",
    "pattern_model.load_weights(model_pattern)"
   ]
  },
  {
   "cell_type": "code",
   "execution_count": 6,
   "metadata": {},
   "outputs": [],
   "source": [
    "model_bottom = load_model(model_bottom)\n",
    "model_style = load_model(model_style)"
   ]
  },
  {
   "cell_type": "code",
   "execution_count": 10,
   "metadata": {},
   "outputs": [],
   "source": [
    "img_dir = './data/1.jpg'\n",
    "img = Image.open(img_dir)\n",
    "img = img.resize((150,150))\n",
    "data = np.array(img)\n",
    "data = data.astype('float')\n",
    "data = data/255\n",
    "data = data.reshape((1,150,150,3))"
   ]
  },
  {
   "cell_type": "markdown",
   "metadata": {},
   "source": [
    "상의 라면"
   ]
  },
  {
   "cell_type": "code",
   "execution_count": null,
   "metadata": {},
   "outputs": [],
   "source": [
    "p = conv_base.predict(data)\n",
    "p = p.reshape((-1,8192))\n",
    "p = pattern_model.predict_classes(p)[0]\n",
    "tp = var_pattern[p]\n",
    "\n",
    "s = conv_base.predict(data)\n",
    "s = s.reshape((-1,8192))\n",
    "s = top_model.predict_classes(s)[0]\n",
    "ts = var_top[s]"
   ]
  },
  {
   "cell_type": "markdown",
   "metadata": {},
   "source": [
    "하의 라면"
   ]
  },
  {
   "cell_type": "code",
   "execution_count": null,
   "metadata": {},
   "outputs": [],
   "source": [
    "p = conv_base.predict(data)\n",
    "p = p.reshape((-1,8192))\n",
    "p = pattern_model.predict_classes(p)[0]\n",
    "bp = var_pattern[p]           \n",
    "\n",
    "s = conv_base.predict(data)\n",
    "s = s.reshape((-1,8192))\n",
    "s = model_bottom.predict_classes(s)[0]\n",
    "bs = var_bottom[s]"
   ]
  },
  {
   "cell_type": "code",
   "execution_count": 14,
   "metadata": {},
   "outputs": [],
   "source": [
    "def identify_clothes(data,up_lo): # 사진 데이터과 상의 이지 하의 인지 상의 :0\n",
    "    if up_lo==0: # 상의 라면\n",
    "        p = conv_base.predict(data)\n",
    "        p = p.reshape((-1,8192))\n",
    "        p = pattern_model.predict_classes(p)[0]\n",
    "        tp = var_pattern[p]\n",
    "        \n",
    "        s = conv_base.predict(data)\n",
    "        s = s.reshape((-1,8192))\n",
    "        s = top_model.predict_classes(s)[0]\n",
    "        ts = var_top[s]\n",
    "        \n",
    "        return tp, ts\n",
    "    else: # 하의 라면\n",
    "        p = conv_base.predict(data)\n",
    "        p = p.reshape((-1,8192))\n",
    "        p = pattern_model.predict_classes(p)[0]\n",
    "        bp = var_pattern[p]           \n",
    "        \n",
    "        s = conv_base.predict(data)\n",
    "        s = s.reshape((-1,8192))\n",
    "        s = model_bottom.predict_classes(s)[0]\n",
    "        bs = var_bottom[s]\n",
    "        \n",
    "        return bp, bs\n",
    "\n",
    "        "
   ]
  },
  {
   "cell_type": "code",
   "execution_count": 24,
   "metadata": {},
   "outputs": [],
   "source": [
    "def recommend(df, style, pattern, shape): # dataframe  스타일, identify_clothes(data,0)[0], identify_clothes(data,0)[1]\n",
    "    if style == 'Casual':\n",
    "        ca_df = df[df['style']=='Casual']\n",
    "        ca_df = ca_df[['top shape','top pattern', 'bottom shape', 'bottom pattern']]\n",
    "        ca_df = ca_df.dropna(axis = 0)\n",
    "        ca_df['zeros'] = 1\n",
    "        ca_table=ca_df.pivot_table('zeros',index=['top shape','top pattern'],columns=['bottom shape', 'bottom pattern'], aggfunc='count')\n",
    "        table = ca_table.fillna(0)\n",
    "        \n",
    "    elif style ==\"Feminine\":\n",
    "        fe_df = df[df['style']=='Feminine']\n",
    "        fe_df = fe_df[['top shape','top pattern', 'bottom shape', 'bottom pattern']]\n",
    "        fe_df = fe_df.dropna(axis = 0)\n",
    "        fe_df['zeros'] = 1\n",
    "        fe_table= fe_df.pivot_table('zeros',index=['top shape','top pattern'],columns=['bottom shape', 'bottom pattern'], aggfunc='count')\n",
    "        table = fe_table.fillna(0)\n",
    "        \n",
    "    else:\n",
    "        fo_df = df[df['style']=='Formal']\n",
    "        fo_df = fo_df[['top shape','top pattern', 'bottom shape', 'bottom pattern']]\n",
    "        fo_df = fo_df.dropna(axis = 0)\n",
    "        fo_df['zeros'] = 1\n",
    "        fo_table= fo_df.pivot_table('zeros',index=['top shape','top pattern'],columns=['bottom shape', 'bottom pattern'], aggfunc='count')\n",
    "        table = fo_table.fillna(0)\n",
    "        \n",
    "        \n",
    "    if shape in ['Hoodie', 'Long-sleeve-tee', 'Shirts', 'Short-sleeve-tee', 'Sweater']:\n",
    "        matched_lower = table.loc[(shape, pattern)].sort_values(ascending=False).index[0]\n",
    "        matched_shape = matched_lower[0]\n",
    "        matched_pattern = matched_lower[1]\n",
    "    else :\n",
    "        matched_upper = f_df2.xs((shape,pattern), axis=1).sort_values(ascending=False).index[0]\n",
    "        matched_shape = matched_upper[0]\n",
    "        matched_pattern = matched_upper[1]\n",
    "    return matched_shape, matched_pattern\n",
    "            \n",
    "            "
   ]
  },
  {
   "cell_type": "code",
   "execution_count": 9,
   "metadata": {},
   "outputs": [],
   "source": [
    "df = pd.read_csv('./data/matrix_codibook_1000.csv')"
   ]
  },
  {
   "cell_type": "code",
   "execution_count": 19,
   "metadata": {},
   "outputs": [],
   "source": [
    "img_dir = './data/8.jpg'\n",
    "img = Image.open(img_dir)\n",
    "img = img.resize((150,150))\n",
    "data = np.array(img)\n",
    "data = data.astype('float')\n",
    "data = data/255\n",
    "data = data.reshape((1,150,150,3))"
   ]
  },
  {
   "cell_type": "code",
   "execution_count": 34,
   "metadata": {},
   "outputs": [
    {
     "data": {
      "text/plain": [
       "('None', 'Long-sleeve-tee')"
      ]
     },
     "execution_count": 34,
     "metadata": {},
     "output_type": "execute_result"
    }
   ],
   "source": [
    "identify_clothes(data,0)"
   ]
  },
  {
   "cell_type": "code",
   "execution_count": 33,
   "metadata": {
    "scrolled": true
   },
   "outputs": [
    {
     "data": {
      "text/plain": [
       "('Cotten-long-pants', 'None')"
      ]
     },
     "execution_count": 33,
     "metadata": {},
     "output_type": "execute_result"
    }
   ],
   "source": [
    "recommend(df, \"Casual\", identify_clothes(data,0)[0], identify_clothes(data,0)[1])"
   ]
  }
 ],
 "metadata": {
  "kernelspec": {
   "display_name": "[CPU_ENV]",
   "language": "python",
   "name": "cpu_env"
  },
  "language_info": {
   "codemirror_mode": {
    "name": "ipython",
    "version": 3
   },
   "file_extension": ".py",
   "mimetype": "text/x-python",
   "name": "python",
   "nbconvert_exporter": "python",
   "pygments_lexer": "ipython3",
   "version": "3.6.10"
  }
 },
 "nbformat": 4,
 "nbformat_minor": 2
}
