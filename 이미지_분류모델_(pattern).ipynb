{
 "cells": [
  {
   "cell_type": "code",
   "execution_count": 2,
   "metadata": {
    "colab": {},
    "colab_type": "code",
    "id": "26oEUgIB2_wQ"
   },
   "outputs": [
    {
     "name": "stderr",
     "output_type": "stream",
     "text": [
      "Using TensorFlow backend.\n"
     ]
    }
   ],
   "source": [
    "import cv2\n",
    "import os\n",
    "import numpy as np\n",
    "import pandas as pd\n",
    "import tensorflow as tf\n",
    "import matplotlib.pyplot as plt\n",
    "from PIL import Image\n",
    "from sklearn.model_selection import train_test_split\n",
    "from keras import layers, Input, models, optimizers\n",
    "from keras.models import Model, Sequential\n",
    "from keras.layers import MaxPooling2D, Conv2D\n",
    "from keras.layers import Activation, Dropout, Flatten, Dense\n",
    "from keras.callbacks import ModelCheckpoint\n",
    "from keras.layers.normalization import BatchNormalization\n",
    "from keras.preprocessing.image import ImageDataGenerator"
   ]
  },
  {
   "cell_type": "code",
   "execution_count": null,
   "metadata": {
    "colab": {},
    "colab_type": "code",
    "id": "nDEImp5N2_wq"
   },
   "outputs": [],
   "source": [
    "# generator = tf.keras.preprocessing.image.ImageDataGenerator(\n",
    "#     rotation_range = 20,\n",
    "#     width_shift_range = 0.2,\n",
    "#     height_shift_range = 0.2,\n",
    "#     rescale = 1. / 255)"
   ]
  },
  {
   "cell_type": "code",
   "execution_count": 16,
   "metadata": {
    "colab": {},
    "colab_type": "code",
    "id": "erNZHWIe2_wt",
    "outputId": "77a93573-93d4-4993-afa2-be7e3645be3b"
   },
   "outputs": [
    {
     "name": "stdout",
     "output_type": "stream",
     "text": [
      "Model: \"sequential_4\"\n",
      "_________________________________________________________________\n",
      "Layer (type)                 Output Shape              Param #   \n",
      "=================================================================\n",
      "conv2d_13 (Conv2D)           (None, 150, 150, 16)      432       \n",
      "_________________________________________________________________\n",
      "batch_normalization_13 (Batc (None, 150, 150, 16)      48        \n",
      "_________________________________________________________________\n",
      "activation_13 (Activation)   (None, 150, 150, 16)      0         \n",
      "_________________________________________________________________\n",
      "max_pooling2d_10 (MaxPooling (None, 38, 38, 16)        0         \n",
      "_________________________________________________________________\n",
      "dropout_13 (Dropout)         (None, 38, 38, 16)        0         \n",
      "_________________________________________________________________\n",
      "conv2d_14 (Conv2D)           (None, 38, 38, 32)        4608      \n",
      "_________________________________________________________________\n",
      "batch_normalization_14 (Batc (None, 38, 38, 32)        96        \n",
      "_________________________________________________________________\n",
      "activation_14 (Activation)   (None, 38, 38, 32)        0         \n",
      "_________________________________________________________________\n",
      "max_pooling2d_11 (MaxPooling (None, 10, 10, 32)        0         \n",
      "_________________________________________________________________\n",
      "dropout_14 (Dropout)         (None, 10, 10, 32)        0         \n",
      "_________________________________________________________________\n",
      "conv2d_15 (Conv2D)           (None, 10, 10, 64)        18432     \n",
      "_________________________________________________________________\n",
      "batch_normalization_15 (Batc (None, 10, 10, 64)        192       \n",
      "_________________________________________________________________\n",
      "activation_15 (Activation)   (None, 10, 10, 64)        0         \n",
      "_________________________________________________________________\n",
      "max_pooling2d_12 (MaxPooling (None, 3, 3, 64)          0         \n",
      "_________________________________________________________________\n",
      "dropout_15 (Dropout)         (None, 3, 3, 64)          0         \n",
      "_________________________________________________________________\n",
      "conv2d_16 (Conv2D)           (None, 3, 3, 128)         73728     \n",
      "_________________________________________________________________\n",
      "batch_normalization_16 (Batc (None, 3, 3, 128)         384       \n",
      "_________________________________________________________________\n",
      "activation_16 (Activation)   (None, 3, 3, 128)         0         \n",
      "_________________________________________________________________\n",
      "flatten_4 (Flatten)          (None, 1152)              0         \n",
      "_________________________________________________________________\n",
      "dropout_16 (Dropout)         (None, 1152)              0         \n",
      "_________________________________________________________________\n",
      "dense_7 (Dense)              (None, 512)               590336    \n",
      "_________________________________________________________________\n",
      "dense_8 (Dense)              (None, 9)                 4617      \n",
      "=================================================================\n",
      "Total params: 692,873\n",
      "Trainable params: 692,393\n",
      "Non-trainable params: 480\n",
      "_________________________________________________________________\n"
     ]
    }
   ],
   "source": [
    "model = Sequential()\n",
    "model.add(Conv2D(16, (3, 3), padding='same', use_bias=False, input_shape=(150,150, 3)))\n",
    "model.add(BatchNormalization(axis=3, scale=False))\n",
    "model.add(Activation(\"relu\"))\n",
    "model.add(MaxPooling2D(pool_size=(4, 4), strides=(4, 4), padding='same'))\n",
    "model.add(Dropout(0.2))\n",
    " \n",
    "model.add(Conv2D(32, (3, 3), padding='same', use_bias=False))\n",
    "model.add(BatchNormalization(axis=3, scale=False))\n",
    "model.add(Activation(\"relu\"))\n",
    "model.add(MaxPooling2D(pool_size=(4, 4), strides=(4, 4), padding='same'))\n",
    "model.add(Dropout(0.2))\n",
    " \n",
    "model.add(Conv2D(64, (3, 3), padding='same', use_bias=False))\n",
    "model.add(BatchNormalization(axis=3, scale=False))\n",
    "model.add(Activation(\"relu\"))\n",
    "model.add(MaxPooling2D(pool_size=(4, 4), strides=(4, 4), padding='same'))\n",
    "model.add(Dropout(0.2))\n",
    " \n",
    "model.add(Conv2D(128, (3, 3), padding='same', use_bias=False))\n",
    "model.add(BatchNormalization(axis=3, scale=False))\n",
    "model.add(Activation(\"relu\"))\n",
    "model.add(Flatten())\n",
    "model.add(Dropout(0.2))\n",
    " \n",
    "model.add(Dense(512, activation='relu'))\n",
    "model.add(Dense(9, activation='softmax'))                                   # label, calss 갯수\n",
    "model.summary()\n",
    " "
   ]
  },
  {
   "cell_type": "code",
   "execution_count": 32,
   "metadata": {
    "colab": {},
    "colab_type": "code",
    "id": "-3mXIL_S2_wy",
    "outputId": "0939b74c-3c37-421b-fdbc-bcf93a27ece5"
   },
   "outputs": [
    {
     "name": "stdout",
     "output_type": "stream",
     "text": [
      "Found 2905 images belonging to 9 classes.\n",
      "Found 1424 images belonging to 9 classes.\n"
     ]
    }
   ],
   "source": [
    "# Compiling the CNN\n",
    "model.compile(optimizer = 'adam', loss = 'categorical_crossentropy', metrics = ['accuracy'])\n",
    "\n",
    "\n",
    "# 데이터 셋\n",
    "train_datagen = ImageDataGenerator(rescale=1./255,\n",
    "#                                    rotation_range=10,\n",
    "#                                    width_shift_range=0.2,\n",
    "#                                    height_shift_range=0.2,\n",
    "#                                    shear_range=0.7,\n",
    "#                                    zoom_range=[0.9, 2.2],\n",
    "#                                    horizontal_flip=True,\n",
    "#                                    vertical_flip=True,\n",
    "#                                    fill_mode='nearest',\n",
    "                                   validation_split=0.33)\n",
    " \n",
    "training_set = train_datagen.flow_from_directory('./data/clothes_category',\n",
    "                                                 target_size = (150,150),\n",
    "                                                 batch_size = 15,\n",
    "                                                 class_mode = 'categorical',\n",
    "                                                 subset=\"training\"\n",
    "                                                )\n",
    "validation_set = train_datagen.flow_from_directory('./data/clothes_category',\n",
    "                                                 target_size = (150,150),\n",
    "                                                 batch_size = 10,\n",
    "                                                 class_mode = 'categorical',\n",
    "                                                 subset=\"validation\"\n",
    "                                                  )\n",
    " "
   ]
  },
  {
   "cell_type": "code",
   "execution_count": 30,
   "metadata": {},
   "outputs": [],
   "source": [
    "from keras.callbacks import EarlyStopping\n",
    "from keras.callbacks import ModelCheckpoint\n",
    "es = EarlyStopping(monitor='val_loss', mode='min', verbose=1, patience=50)\n",
    "mc = ModelCheckpoint('best_model_pattern_0424.h5', monitor='val_loss', mode='min', save_best_only=True)"
   ]
  },
  {
   "cell_type": "code",
   "execution_count": 33,
   "metadata": {
    "colab": {},
    "colab_type": "code",
    "id": "bCPW2TsG2_w2",
    "outputId": "d22ce856-5501-4216-eb07-831304828278"
   },
   "outputs": [
    {
     "name": "stdout",
     "output_type": "stream",
     "text": [
      "Epoch 1/500\n",
      "10/10 [==============================] - 8s 781ms/step - loss: 1.6341 - accuracy: 0.4533 - val_loss: 2.3868 - val_accuracy: 0.0800\n",
      "Epoch 2/500\n",
      "10/10 [==============================] - 5s 533ms/step - loss: 1.4791 - accuracy: 0.5400 - val_loss: 2.3119 - val_accuracy: 0.1000\n",
      "Epoch 3/500\n",
      "10/10 [==============================] - 5s 516ms/step - loss: 1.3223 - accuracy: 0.5267 - val_loss: 1.5625 - val_accuracy: 0.2700\n",
      "Epoch 4/500\n",
      "10/10 [==============================] - 5s 489ms/step - loss: 1.2491 - accuracy: 0.5533 - val_loss: 2.3202 - val_accuracy: 0.1600\n",
      "Epoch 5/500\n",
      "10/10 [==============================] - 5s 503ms/step - loss: 1.2629 - accuracy: 0.5667 - val_loss: 1.8086 - val_accuracy: 0.1900\n",
      "Epoch 6/500\n",
      "10/10 [==============================] - 5s 507ms/step - loss: 1.2339 - accuracy: 0.5733 - val_loss: 2.4044 - val_accuracy: 0.3000\n",
      "Epoch 7/500\n",
      "10/10 [==============================] - 5s 494ms/step - loss: 1.6333 - accuracy: 0.4276 - val_loss: 2.0240 - val_accuracy: 0.1000\n",
      "Epoch 8/500\n",
      "10/10 [==============================] - 5s 545ms/step - loss: 1.0133 - accuracy: 0.6333 - val_loss: 2.1226 - val_accuracy: 0.3400\n",
      "Epoch 9/500\n",
      "10/10 [==============================] - 5s 517ms/step - loss: 1.3432 - accuracy: 0.5000 - val_loss: 1.7331 - val_accuracy: 0.2500\n",
      "Epoch 10/500\n",
      "10/10 [==============================] - 5s 516ms/step - loss: 1.2190 - accuracy: 0.5733 - val_loss: 1.8279 - val_accuracy: 0.2000\n",
      "Epoch 11/500\n",
      "10/10 [==============================] - 5s 521ms/step - loss: 1.3739 - accuracy: 0.5333 - val_loss: 1.4672 - val_accuracy: 0.2700\n",
      "Epoch 12/500\n",
      "10/10 [==============================] - 5s 510ms/step - loss: 1.2778 - accuracy: 0.5667 - val_loss: 1.7604 - val_accuracy: 0.3200\n",
      "Epoch 13/500\n",
      "10/10 [==============================] - 5s 531ms/step - loss: 1.0060 - accuracy: 0.7000 - val_loss: 1.3406 - val_accuracy: 0.3200\n",
      "Epoch 14/500\n",
      "10/10 [==============================] - 5s 519ms/step - loss: 1.1915 - accuracy: 0.5667 - val_loss: 1.8110 - val_accuracy: 0.3000\n",
      "Epoch 15/500\n",
      "10/10 [==============================] - 5s 523ms/step - loss: 1.0132 - accuracy: 0.6333 - val_loss: 1.8439 - val_accuracy: 0.2340\n",
      "Epoch 16/500\n",
      "10/10 [==============================] - 5s 538ms/step - loss: 1.1726 - accuracy: 0.5733 - val_loss: 1.3045 - val_accuracy: 0.5500\n",
      "Epoch 17/500\n",
      "10/10 [==============================] - 5s 526ms/step - loss: 1.2676 - accuracy: 0.5400 - val_loss: 2.2377 - val_accuracy: 0.2900\n",
      "Epoch 18/500\n",
      "10/10 [==============================] - 5s 539ms/step - loss: 1.1328 - accuracy: 0.6200 - val_loss: 1.9699 - val_accuracy: 0.3200\n",
      "Epoch 19/500\n",
      "10/10 [==============================] - 5s 548ms/step - loss: 1.1271 - accuracy: 0.5933 - val_loss: 1.5299 - val_accuracy: 0.3000\n",
      "Epoch 20/500\n",
      "10/10 [==============================] - 6s 559ms/step - loss: 1.1573 - accuracy: 0.5933 - val_loss: 1.5366 - val_accuracy: 0.3000\n",
      "Epoch 21/500\n",
      "10/10 [==============================] - 6s 558ms/step - loss: 1.0120 - accuracy: 0.6200 - val_loss: 2.7120 - val_accuracy: 0.2900\n",
      "Epoch 22/500\n",
      "10/10 [==============================] - 6s 568ms/step - loss: 0.9800 - accuracy: 0.6667 - val_loss: 1.6688 - val_accuracy: 0.3400\n",
      "Epoch 23/500\n",
      "10/10 [==============================] - 6s 565ms/step - loss: 0.9480 - accuracy: 0.6733 - val_loss: 1.5393 - val_accuracy: 0.3500\n",
      "Epoch 24/500\n",
      "10/10 [==============================] - 6s 585ms/step - loss: 0.8559 - accuracy: 0.7200 - val_loss: 1.2764 - val_accuracy: 0.5100\n",
      "Epoch 25/500\n",
      "10/10 [==============================] - 6s 572ms/step - loss: 1.0587 - accuracy: 0.6400 - val_loss: 1.1276 - val_accuracy: 0.5400\n",
      "Epoch 26/500\n",
      "10/10 [==============================] - 6s 600ms/step - loss: 0.9377 - accuracy: 0.7000 - val_loss: 0.6386 - val_accuracy: 0.4300\n",
      "Epoch 27/500\n",
      "10/10 [==============================] - 6s 611ms/step - loss: 1.1866 - accuracy: 0.5933 - val_loss: 1.3998 - val_accuracy: 0.4900\n",
      "Epoch 28/500\n",
      "10/10 [==============================] - 6s 604ms/step - loss: 1.0133 - accuracy: 0.6467 - val_loss: 1.8467 - val_accuracy: 0.5000\n",
      "Epoch 29/500\n",
      "10/10 [==============================] - 6s 626ms/step - loss: 0.9764 - accuracy: 0.6400 - val_loss: 1.1107 - val_accuracy: 0.4043\n",
      "Epoch 30/500\n",
      "10/10 [==============================] - 6s 623ms/step - loss: 1.0163 - accuracy: 0.6267 - val_loss: 1.1951 - val_accuracy: 0.5300\n",
      "Epoch 31/500\n",
      "10/10 [==============================] - 6s 612ms/step - loss: 1.0187 - accuracy: 0.6133 - val_loss: 0.7784 - val_accuracy: 0.6000\n",
      "Epoch 32/500\n",
      "10/10 [==============================] - 6s 598ms/step - loss: 0.9119 - accuracy: 0.7172 - val_loss: 1.1334 - val_accuracy: 0.4500\n",
      "Epoch 33/500\n",
      "10/10 [==============================] - 6s 608ms/step - loss: 1.0413 - accuracy: 0.6000 - val_loss: 2.0743 - val_accuracy: 0.5100\n",
      "Epoch 34/500\n",
      "10/10 [==============================] - 6s 612ms/step - loss: 0.9506 - accuracy: 0.6667 - val_loss: 1.4027 - val_accuracy: 0.5100\n",
      "Epoch 35/500\n",
      "10/10 [==============================] - 6s 607ms/step - loss: 0.9424 - accuracy: 0.6733 - val_loss: 1.0723 - val_accuracy: 0.5900\n",
      "Epoch 36/500\n",
      "10/10 [==============================] - 6s 611ms/step - loss: 1.0213 - accuracy: 0.6333 - val_loss: 2.4355 - val_accuracy: 0.5100\n",
      "Epoch 37/500\n",
      "10/10 [==============================] - 6s 622ms/step - loss: 1.0419 - accuracy: 0.6667 - val_loss: 1.9986 - val_accuracy: 0.4600\n",
      "Epoch 38/500\n",
      "10/10 [==============================] - 6s 607ms/step - loss: 0.9517 - accuracy: 0.6400 - val_loss: 0.9927 - val_accuracy: 0.6100\n",
      "Epoch 39/500\n",
      "10/10 [==============================] - 6s 618ms/step - loss: 0.8584 - accuracy: 0.6733 - val_loss: 1.1757 - val_accuracy: 0.5700\n",
      "Epoch 40/500\n",
      "10/10 [==============================] - 6s 607ms/step - loss: 0.9941 - accuracy: 0.6733 - val_loss: 2.3420 - val_accuracy: 0.6000\n",
      "Epoch 41/500\n",
      "10/10 [==============================] - 7s 688ms/step - loss: 0.7929 - accuracy: 0.7400 - val_loss: 0.6261 - val_accuracy: 0.5700\n",
      "Epoch 42/500\n",
      "10/10 [==============================] - 7s 717ms/step - loss: 0.9355 - accuracy: 0.6759 - val_loss: 0.7520 - val_accuracy: 0.6900\n",
      "Epoch 43/500\n",
      "10/10 [==============================] - 7s 659ms/step - loss: 0.9090 - accuracy: 0.6867 - val_loss: 1.3811 - val_accuracy: 0.6596\n",
      "Epoch 44/500\n",
      "10/10 [==============================] - 6s 628ms/step - loss: 1.0416 - accuracy: 0.6600 - val_loss: 1.6390 - val_accuracy: 0.6500\n",
      "Epoch 45/500\n",
      "10/10 [==============================] - 6s 639ms/step - loss: 1.0217 - accuracy: 0.6533 - val_loss: 0.9326 - val_accuracy: 0.4800\n",
      "Epoch 46/500\n",
      "10/10 [==============================] - 7s 692ms/step - loss: 0.8390 - accuracy: 0.6867 - val_loss: 0.8844 - val_accuracy: 0.5200\n",
      "Epoch 47/500\n",
      "10/10 [==============================] - 7s 667ms/step - loss: 0.8899 - accuracy: 0.6733 - val_loss: 1.0435 - val_accuracy: 0.5800\n",
      "Epoch 48/500\n",
      "10/10 [==============================] - 6s 614ms/step - loss: 0.8465 - accuracy: 0.6867 - val_loss: 1.2175 - val_accuracy: 0.6400\n",
      "Epoch 49/500\n",
      "10/10 [==============================] - 6s 607ms/step - loss: 0.8229 - accuracy: 0.7000 - val_loss: 0.3166 - val_accuracy: 0.6300\n",
      "Epoch 50/500\n",
      "10/10 [==============================] - 6s 608ms/step - loss: 0.8820 - accuracy: 0.7133 - val_loss: 0.5573 - val_accuracy: 0.7600\n",
      "Epoch 51/500\n",
      "10/10 [==============================] - 6s 609ms/step - loss: 0.7680 - accuracy: 0.7200 - val_loss: 1.7019 - val_accuracy: 0.6600\n",
      "Epoch 52/500\n",
      "10/10 [==============================] - 6s 605ms/step - loss: 0.8593 - accuracy: 0.6600 - val_loss: 0.8195 - val_accuracy: 0.6800\n",
      "Epoch 53/500\n",
      "10/10 [==============================] - 6s 601ms/step - loss: 0.8921 - accuracy: 0.7133 - val_loss: 1.5392 - val_accuracy: 0.6400\n",
      "Epoch 54/500\n",
      "10/10 [==============================] - 6s 607ms/step - loss: 0.8937 - accuracy: 0.6733 - val_loss: 1.5464 - val_accuracy: 0.5500\n",
      "Epoch 55/500\n",
      "10/10 [==============================] - 6s 608ms/step - loss: 0.7563 - accuracy: 0.7133 - val_loss: 0.7030 - val_accuracy: 0.6300\n",
      "Epoch 56/500\n",
      "10/10 [==============================] - 6s 609ms/step - loss: 0.9056 - accuracy: 0.7067 - val_loss: 0.9866 - val_accuracy: 0.6100\n",
      "Epoch 57/500\n",
      "10/10 [==============================] - 6s 599ms/step - loss: 0.7069 - accuracy: 0.7667 - val_loss: 0.5324 - val_accuracy: 0.5000\n",
      "Epoch 58/500\n",
      "10/10 [==============================] - 6s 595ms/step - loss: 0.8026 - accuracy: 0.6867 - val_loss: 0.8144 - val_accuracy: 0.6596\n",
      "Epoch 59/500\n",
      "10/10 [==============================] - 6s 620ms/step - loss: 0.8420 - accuracy: 0.7133 - val_loss: 0.7251 - val_accuracy: 0.7000\n",
      "Epoch 60/500\n",
      "10/10 [==============================] - 6s 601ms/step - loss: 0.5993 - accuracy: 0.8000 - val_loss: 0.9211 - val_accuracy: 0.6100\n",
      "Epoch 61/500\n",
      "10/10 [==============================] - 6s 603ms/step - loss: 0.6786 - accuracy: 0.7600 - val_loss: 1.0368 - val_accuracy: 0.6900\n",
      "Epoch 62/500\n",
      "10/10 [==============================] - 7s 700ms/step - loss: 0.6729 - accuracy: 0.7800 - val_loss: 1.1798 - val_accuracy: 0.7100\n",
      "Epoch 63/500\n",
      "10/10 [==============================] - 6s 598ms/step - loss: 0.7535 - accuracy: 0.7267 - val_loss: 0.9015 - val_accuracy: 0.7100\n",
      "Epoch 64/500\n",
      "10/10 [==============================] - 6s 603ms/step - loss: 0.9038 - accuracy: 0.6667 - val_loss: 0.5606 - val_accuracy: 0.6600\n",
      "Epoch 65/500\n",
      "10/10 [==============================] - 6s 612ms/step - loss: 0.7176 - accuracy: 0.7600 - val_loss: 0.7159 - val_accuracy: 0.7300\n",
      "Epoch 66/500\n",
      "10/10 [==============================] - 6s 606ms/step - loss: 0.8113 - accuracy: 0.7333 - val_loss: 0.5706 - val_accuracy: 0.7200\n",
      "Epoch 67/500\n",
      "10/10 [==============================] - 6s 620ms/step - loss: 0.8265 - accuracy: 0.7133 - val_loss: 0.2712 - val_accuracy: 0.7100\n",
      "Epoch 68/500\n",
      "10/10 [==============================] - 6s 627ms/step - loss: 0.8690 - accuracy: 0.7067 - val_loss: 0.6759 - val_accuracy: 0.7000\n",
      "Epoch 69/500\n",
      "10/10 [==============================] - 6s 603ms/step - loss: 0.7542 - accuracy: 0.7000 - val_loss: 0.8070 - val_accuracy: 0.6900\n",
      "Epoch 70/500\n",
      "10/10 [==============================] - 6s 614ms/step - loss: 0.8487 - accuracy: 0.7200 - val_loss: 0.6824 - val_accuracy: 0.6200\n",
      "Epoch 71/500\n",
      "10/10 [==============================] - 6s 595ms/step - loss: 0.8358 - accuracy: 0.6933 - val_loss: 1.2898 - val_accuracy: 0.6200\n",
      "Epoch 72/500\n",
      "10/10 [==============================] - 6s 600ms/step - loss: 0.7779 - accuracy: 0.7733 - val_loss: 0.5941 - val_accuracy: 0.7234\n",
      "Epoch 73/500\n",
      "10/10 [==============================] - 6s 616ms/step - loss: 0.7714 - accuracy: 0.7267 - val_loss: 0.7019 - val_accuracy: 0.6700\n",
      "Epoch 74/500\n",
      "10/10 [==============================] - 6s 602ms/step - loss: 0.7987 - accuracy: 0.7467 - val_loss: 0.7092 - val_accuracy: 0.6100\n",
      "Epoch 75/500\n",
      "10/10 [==============================] - 6s 629ms/step - loss: 0.8775 - accuracy: 0.6667 - val_loss: 0.8338 - val_accuracy: 0.5900\n",
      "Epoch 76/500\n",
      "10/10 [==============================] - 6s 624ms/step - loss: 0.8511 - accuracy: 0.6759 - val_loss: 0.8548 - val_accuracy: 0.6500\n",
      "Epoch 77/500\n",
      "10/10 [==============================] - 6s 614ms/step - loss: 0.8637 - accuracy: 0.7267 - val_loss: 1.8984 - val_accuracy: 0.6800\n",
      "Epoch 78/500\n",
      "10/10 [==============================] - 6s 615ms/step - loss: 1.0056 - accuracy: 0.6133 - val_loss: 1.2534 - val_accuracy: 0.6100\n",
      "Epoch 79/500\n",
      "10/10 [==============================] - 6s 607ms/step - loss: 0.6461 - accuracy: 0.7600 - val_loss: 0.7723 - val_accuracy: 0.7100\n",
      "Epoch 80/500\n",
      "10/10 [==============================] - 6s 608ms/step - loss: 0.6335 - accuracy: 0.7400 - val_loss: 0.6764 - val_accuracy: 0.7400\n",
      "Epoch 81/500\n",
      "10/10 [==============================] - 6s 604ms/step - loss: 0.6997 - accuracy: 0.7400 - val_loss: 1.2109 - val_accuracy: 0.6400\n",
      "Epoch 82/500\n",
      "10/10 [==============================] - 6s 612ms/step - loss: 0.7231 - accuracy: 0.7400 - val_loss: 0.6437 - val_accuracy: 0.6800\n",
      "Epoch 83/500\n",
      "10/10 [==============================] - 6s 602ms/step - loss: 0.7159 - accuracy: 0.7467 - val_loss: 0.8420 - val_accuracy: 0.7400\n",
      "Epoch 84/500\n",
      "10/10 [==============================] - 6s 615ms/step - loss: 0.7372 - accuracy: 0.7667 - val_loss: 0.5938 - val_accuracy: 0.7000\n",
      "Epoch 85/500\n",
      "10/10 [==============================] - 6s 603ms/step - loss: 0.7553 - accuracy: 0.7200 - val_loss: 0.9228 - val_accuracy: 0.7500\n",
      "Epoch 86/500\n",
      "10/10 [==============================] - 6s 605ms/step - loss: 0.5343 - accuracy: 0.8267 - val_loss: 0.7839 - val_accuracy: 0.6489\n",
      "Epoch 87/500\n",
      "10/10 [==============================] - 6s 635ms/step - loss: 0.8359 - accuracy: 0.7133 - val_loss: 1.6165 - val_accuracy: 0.6400\n",
      "Epoch 88/500\n",
      "10/10 [==============================] - 6s 607ms/step - loss: 0.7195 - accuracy: 0.7667 - val_loss: 0.8521 - val_accuracy: 0.7100\n",
      "Epoch 89/500\n",
      "10/10 [==============================] - 6s 607ms/step - loss: 0.7674 - accuracy: 0.7200 - val_loss: 0.8188 - val_accuracy: 0.6600\n",
      "Epoch 90/500\n",
      "10/10 [==============================] - 6s 608ms/step - loss: 0.7256 - accuracy: 0.7800 - val_loss: 1.1917 - val_accuracy: 0.6000\n",
      "Epoch 91/500\n",
      "10/10 [==============================] - 6s 604ms/step - loss: 0.7067 - accuracy: 0.7667 - val_loss: 0.4504 - val_accuracy: 0.8000\n",
      "Epoch 92/500\n",
      "10/10 [==============================] - 6s 608ms/step - loss: 0.7616 - accuracy: 0.7400 - val_loss: 0.5139 - val_accuracy: 0.7500\n",
      "Epoch 93/500\n",
      "10/10 [==============================] - 6s 605ms/step - loss: 0.8175 - accuracy: 0.6733 - val_loss: 0.7285 - val_accuracy: 0.7400\n",
      "Epoch 94/500\n",
      "10/10 [==============================] - 6s 596ms/step - loss: 0.6151 - accuracy: 0.7724 - val_loss: 1.3903 - val_accuracy: 0.7000\n",
      "Epoch 95/500\n",
      "10/10 [==============================] - 7s 693ms/step - loss: 0.5414 - accuracy: 0.7933 - val_loss: 0.7281 - val_accuracy: 0.7700\n",
      "Epoch 96/500\n",
      "10/10 [==============================] - 6s 620ms/step - loss: 0.8980 - accuracy: 0.7133 - val_loss: 1.4472 - val_accuracy: 0.6900\n",
      "Epoch 97/500\n",
      "10/10 [==============================] - 6s 618ms/step - loss: 0.6808 - accuracy: 0.7533 - val_loss: 1.0203 - val_accuracy: 0.7300\n",
      "Epoch 98/500\n",
      "10/10 [==============================] - 6s 607ms/step - loss: 0.5600 - accuracy: 0.8067 - val_loss: 0.5861 - val_accuracy: 0.8400\n",
      "Epoch 99/500\n",
      "10/10 [==============================] - 6s 603ms/step - loss: 0.5671 - accuracy: 0.7733 - val_loss: 1.0949 - val_accuracy: 0.6400\n",
      "Epoch 100/500\n",
      "10/10 [==============================] - 6s 595ms/step - loss: 0.7182 - accuracy: 0.7133 - val_loss: 1.0912 - val_accuracy: 0.7500\n",
      "Epoch 101/500\n",
      "10/10 [==============================] - 6s 608ms/step - loss: 0.6057 - accuracy: 0.8067 - val_loss: 1.2366 - val_accuracy: 0.7447\n",
      "Epoch 102/500\n",
      "10/10 [==============================] - 6s 611ms/step - loss: 0.6417 - accuracy: 0.7800 - val_loss: 1.1139 - val_accuracy: 0.6800\n",
      "Epoch 103/500\n",
      "10/10 [==============================] - 6s 608ms/step - loss: 0.6479 - accuracy: 0.7600 - val_loss: 0.9829 - val_accuracy: 0.7400\n",
      "Epoch 104/500\n",
      "10/10 [==============================] - 6s 616ms/step - loss: 0.6923 - accuracy: 0.7600 - val_loss: 0.7631 - val_accuracy: 0.6900\n",
      "Epoch 105/500\n",
      "10/10 [==============================] - 6s 607ms/step - loss: 0.6103 - accuracy: 0.7733 - val_loss: 0.6770 - val_accuracy: 0.7000\n",
      "Epoch 106/500\n",
      "10/10 [==============================] - 6s 629ms/step - loss: 0.7251 - accuracy: 0.7533 - val_loss: 0.4415 - val_accuracy: 0.7300\n",
      "Epoch 107/500\n",
      "10/10 [==============================] - 6s 617ms/step - loss: 0.6078 - accuracy: 0.8133 - val_loss: 1.1184 - val_accuracy: 0.7200\n",
      "Epoch 108/500\n",
      "10/10 [==============================] - 6s 608ms/step - loss: 0.7336 - accuracy: 0.7267 - val_loss: 0.6177 - val_accuracy: 0.7400\n",
      "Epoch 109/500\n",
      "10/10 [==============================] - 6s 611ms/step - loss: 0.5982 - accuracy: 0.7867 - val_loss: 0.9999 - val_accuracy: 0.6600\n",
      "Epoch 110/500\n",
      "10/10 [==============================] - 6s 610ms/step - loss: 0.7171 - accuracy: 0.7533 - val_loss: 1.3481 - val_accuracy: 0.5400\n",
      "Epoch 111/500\n",
      "10/10 [==============================] - 6s 610ms/step - loss: 0.7452 - accuracy: 0.7200 - val_loss: 1.5155 - val_accuracy: 0.6400\n",
      "Epoch 112/500\n",
      "10/10 [==============================] - 6s 614ms/step - loss: 0.6352 - accuracy: 0.7667 - val_loss: 0.3903 - val_accuracy: 0.7000\n",
      "Epoch 113/500\n",
      "10/10 [==============================] - 6s 606ms/step - loss: 0.6713 - accuracy: 0.7600 - val_loss: 0.6211 - val_accuracy: 0.6900\n",
      "Epoch 114/500\n",
      "10/10 [==============================] - 6s 605ms/step - loss: 0.7576 - accuracy: 0.7667 - val_loss: 0.6663 - val_accuracy: 0.7000\n",
      "Epoch 115/500\n",
      "10/10 [==============================] - 6s 601ms/step - loss: 0.6718 - accuracy: 0.7733 - val_loss: 1.4318 - val_accuracy: 0.4681\n",
      "Epoch 116/500\n",
      "10/10 [==============================] - 6s 597ms/step - loss: 0.7501 - accuracy: 0.6933 - val_loss: 1.2940 - val_accuracy: 0.5700\n",
      "Epoch 117/500\n",
      "10/10 [==============================] - 6s 605ms/step - loss: 0.6014 - accuracy: 0.8000 - val_loss: 1.9218 - val_accuracy: 0.6100\n",
      "Epoch 00117: early stopping\n"
     ]
    }
   ],
   "source": [
    "from keras.callbacks import CSVLogger\n",
    "\n",
    "csv_logger = CSVLogger('./log.csv', append=True, separator=';')\n",
    " \n",
    " \n",
    "hist = model.fit_generator(training_set,\n",
    "                         steps_per_epoch = 10, #20\n",
    "                         epochs = 500,  #1000\n",
    "                         validation_data = validation_set,\n",
    "                         validation_steps = 10,\n",
    "                         callbacks=[es,mc])\n",
    " \n",
    " "
   ]
  },
  {
   "cell_type": "code",
   "execution_count": null,
   "metadata": {
    "colab": {},
    "colab_type": "code",
    "id": "7PJIGmDY2_w6",
    "outputId": "3e77f084-3704-4adb-e548-63f677ff5101"
   },
   "outputs": [
    {
     "ename": "ModuleNotFoundError",
     "evalue": "No module named 'models'",
     "output_type": "error",
     "traceback": [
      "\u001b[1;31m---------------------------------------------------------------------------\u001b[0m",
      "\u001b[1;31mModuleNotFoundError\u001b[0m                       Traceback (most recent call last)",
      "\u001b[1;32m<ipython-input-13-2bb2eb30127d>\u001b[0m in \u001b[0;36m<module>\u001b[1;34m\u001b[0m\n\u001b[0;32m      3\u001b[0m \u001b[1;33m\u001b[0m\u001b[0m\n\u001b[0;32m      4\u001b[0m \u001b[1;32mfrom\u001b[0m \u001b[0mkeras\u001b[0m\u001b[1;33m.\u001b[0m\u001b[0mmodels\u001b[0m \u001b[1;32mimport\u001b[0m \u001b[0mload_model\u001b[0m\u001b[1;33m\u001b[0m\u001b[1;33m\u001b[0m\u001b[0m\n\u001b[1;32m----> 5\u001b[1;33m \u001b[1;32mfrom\u001b[0m \u001b[0mmodels\u001b[0m \u001b[1;32mimport\u001b[0m \u001b[0mmodel_from_json\u001b[0m\u001b[1;33m\u001b[0m\u001b[1;33m\u001b[0m\u001b[0m\n\u001b[0m\u001b[0;32m      6\u001b[0m \u001b[1;33m\u001b[0m\u001b[0m\n\u001b[0;32m      7\u001b[0m \u001b[0mmodel\u001b[0m\u001b[1;33m.\u001b[0m\u001b[0msave\u001b[0m\u001b[1;33m(\u001b[0m\u001b[1;34m'model_pattern.h5'\u001b[0m\u001b[1;33m)\u001b[0m                       \u001b[1;31m# 모델(architecture, weight 동시 저장) 저장 이름\u001b[0m\u001b[1;33m\u001b[0m\u001b[1;33m\u001b[0m\u001b[0m\n",
      "\u001b[1;31mModuleNotFoundError\u001b[0m: No module named 'models'"
     ]
    }
   ],
   "source": [
    "# 모델 저장\n",
    "\n",
    "\n",
    "from keras.models import load_model, model_from_json\n",
    "model.save('model_pattern.h5')                       # 모델(architecture, weight 동시 저장) 저장 이름\n",
    "\n",
    "\n",
    "# 모델 아키텍처를 json 형, 식으로 저장                 # 모델 architecture 만 저장 \n",
    "#json_string = model.to_json()                       # json 파일에서 모델 아키텍처 재구성\n",
    "#model = model_from_json(json_string) \n",
    "\n",
    "\n",
    "# 모델 Weights 저장\n",
    "#model.save_weights()\n"
   ]
  },
  {
   "cell_type": "code",
   "execution_count": null,
   "metadata": {
    "colab": {},
    "colab_type": "code",
    "id": "fTrtcg-32_w9"
   },
   "outputs": [],
   "source": [
    "from keras.models import load_model\n",
    "model = load_model('model_pattern.h5')"
   ]
  },
  {
   "cell_type": "code",
   "execution_count": 34,
   "metadata": {
    "colab": {},
    "colab_type": "code",
    "id": "OcDCsA_y2_xA",
    "outputId": "decc3f5f-3400-490a-e232-0956786e1674"
   },
   "outputs": [
    {
     "name": "stdout",
     "output_type": "stream",
     "text": [
      "-- Evaluate --\n",
      "accuracy: 73.00%\n",
      "-- Predict --\n",
      "{'Chiffon_skirt': 0, 'Cotten_long_pants': 1, 'Cutoffs': 2, 'H_line_skirt': 3, 'Hoodie': 4, 'Jeans': 5, 'Long_sleeve_tee': 6, 'Shirts': 7, 'Short_sleeve_tee': 8}\n"
     ]
    }
   ],
   "source": [
    "# output = classifier.predict_generator(test_set, steps=5)\n",
    "# print(test_set.class_indices)\n",
    "# print(output)\n",
    " \n",
    "# 모델 평가하기\n",
    "print(\"-- Evaluate --\")\n",
    " \n",
    "scores = model.evaluate_generator(\n",
    "            validation_set,\n",
    "            steps = 10)\n",
    " \n",
    "print(\"%s: %.2f%%\" %(model.metrics_names[1], scores[1]*100))\n",
    " \n",
    "# 모델 예측하기\n",
    "print(\"-- Predict --\")\n",
    " \n",
    "output = model.predict_generator(\n",
    "            validation_set,\n",
    "            steps = 100)\n",
    "print(validation_set.class_indices)\n",
    "np.set_printoptions(formatter={'float': lambda x: \"{0:0.3f}\".format(x)})\n",
    " "
   ]
  },
  {
   "cell_type": "code",
   "execution_count": null,
   "metadata": {
    "colab": {},
    "colab_type": "code",
    "id": "hEiq-NWd2_xE"
   },
   "outputs": [],
   "source": [
    "# 훈련 세트의 정확도와 테스트 세트의 정확도 사이의 차이는 과대적합(overfitting) 때문\n",
    "# 과대적합은 머신러닝 모델이 훈련 데이터보다 새로운 데이터에서 성능이 낮아지는 현상"
   ]
  },
  {
   "cell_type": "code",
   "execution_count": null,
   "metadata": {
    "colab": {},
    "colab_type": "code",
    "id": "TmS_CwYy2_xH"
   },
   "outputs": [],
   "source": [
    "# 모델 예측\n",
    "# predict는 확률을, predict_classes는 label 값을 알려줌"
   ]
  },
  {
   "cell_type": "code",
   "execution_count": 42,
   "metadata": {},
   "outputs": [
    {
     "data": {
      "image/png": "[encoded data removed]",
      "text/plain": [
       "<Figure size 432x288 with 1 Axes>"
      ]
     },
     "metadata": {
      "needs_background": "light"
     },
     "output_type": "display_data"
    },
    {
     "data": {
      "image/png": "[encoded data removed]",
      "text/plain": [
       "<Figure size 432x288 with 1 Axes>"
      ]
     },
     "metadata": {
      "needs_background": "light"
     },
     "output_type": "display_data"
    }
   ],
   "source": [
    "acc = hist.history['accuracy']\n",
    "val_acc = hist.history['val_accuracy']\n",
    "loss = hist.history['loss']\n",
    "val_loss = hist.history['val_loss']\n",
    "epochs = range(1, len(acc) + 1)\n",
    "\n",
    "plt.plot(epochs, acc, 'bo', label = 'Training acc')\n",
    "plt.plot(epochs, val_acc, 'b', label = 'Validation acc')\n",
    "# plt.tilte('Training and validation accuracy')\n",
    "plt.legend()\n",
    "\n",
    "plt.figure()\n",
    "\n",
    "plt.plot(epochs, loss, 'bo', label = 'Training loss')\n",
    "plt.plot(epochs, val_loss, 'b', label = 'Validation loss')\n",
    "# plt.tilte('Training and validation loss')\n",
    "plt.legend()\n",
    "\n",
    "plt.show()"
   ]
  },
  {
   "cell_type": "code",
   "execution_count": 35,
   "metadata": {
    "colab": {},
    "colab_type": "code",
    "id": "E_oR3zkl2_xJ",
    "scrolled": true
   },
   "outputs": [
    {
     "ename": "KeyError",
     "evalue": "'acc'",
     "output_type": "error",
     "traceback": [
      "\u001b[1;31m---------------------------------------------------------------------------\u001b[0m",
      "\u001b[1;31mKeyError\u001b[0m                                  Traceback (most recent call last)",
      "\u001b[1;32m<ipython-input-35-5241f0d8678d>\u001b[0m in \u001b[0;36m<module>\u001b[1;34m\u001b[0m\n\u001b[0;32m     12\u001b[0m \u001b[1;31m##loss_ax.set_ylim([0.0, 0.5])\u001b[0m\u001b[1;33m\u001b[0m\u001b[1;33m\u001b[0m\u001b[1;33m\u001b[0m\u001b[0m\n\u001b[0;32m     13\u001b[0m \u001b[1;33m\u001b[0m\u001b[0m\n\u001b[1;32m---> 14\u001b[1;33m \u001b[0macc_ax\u001b[0m\u001b[1;33m.\u001b[0m\u001b[0mplot\u001b[0m\u001b[1;33m(\u001b[0m\u001b[0mhist\u001b[0m\u001b[1;33m.\u001b[0m\u001b[0mhistory\u001b[0m\u001b[1;33m[\u001b[0m\u001b[1;34m'acc'\u001b[0m\u001b[1;33m]\u001b[0m\u001b[1;33m,\u001b[0m \u001b[1;34m'b'\u001b[0m\u001b[1;33m,\u001b[0m \u001b[0mlabel\u001b[0m\u001b[1;33m=\u001b[0m\u001b[1;34m'train acc'\u001b[0m\u001b[1;33m)\u001b[0m\u001b[1;33m\u001b[0m\u001b[1;33m\u001b[0m\u001b[0m\n\u001b[0m\u001b[0;32m     15\u001b[0m \u001b[1;31m#acc_ax.plot(hist.history['val_acc'], 'g', label='val acc')\u001b[0m\u001b[1;33m\u001b[0m\u001b[1;33m\u001b[0m\u001b[1;33m\u001b[0m\u001b[0m\n\u001b[0;32m     16\u001b[0m \u001b[1;31m##acc_ax.set_ylim([0.8, 1.0])\u001b[0m\u001b[1;33m\u001b[0m\u001b[1;33m\u001b[0m\u001b[1;33m\u001b[0m\u001b[0m\n",
      "\u001b[1;31mKeyError\u001b[0m: 'acc'"
     ]
    },
    {
     "data": {
      "image/png": "[encoded data removed]",
      "text/plain": [
       "<Figure size 432x288 with 2 Axes>"
      ]
     },
     "metadata": {
      "needs_background": "light"
     },
     "output_type": "display_data"
    }
   ],
   "source": [
    "# 학습 과정 정확도, 손실함수 변화 그래프로 보기\n",
    "\n",
    "\n",
    "import matplotlib.pyplot as plt\n",
    " \n",
    "fig, loss_ax = plt.subplots()\n",
    " \n",
    "acc_ax = loss_ax.twinx()\n",
    " \n",
    "loss_ax.plot(hist.history['loss'], 'y', label='train loss')\n",
    "#loss_ax.plot(hist.history['val_loss'], 'r', label='val loss')\n",
    "##loss_ax.set_ylim([0.0, 0.5])\n",
    " \n",
    "acc_ax.plot(hist.history['acc'], 'b', label='train acc')\n",
    "#acc_ax.plot(hist.history['val_acc'], 'g', label='val acc')\n",
    "##acc_ax.set_ylim([0.8, 1.0])\n",
    " \n",
    "loss_ax.set_xlabel('epoch')\n",
    "loss_ax.set_ylabel('loss')\n",
    "acc_ax.set_ylabel('accuray')\n",
    " \n",
    "loss_ax.legend(loc='upper left')\n",
    "acc_ax.legend(loc='lower left')\n",
    " \n",
    "plt.show()"
   ]
  },
  {
   "cell_type": "code",
   "execution_count": null,
   "metadata": {
    "colab": {},
    "colab_type": "code",
    "id": "diEZ8RwE2_xM"
   },
   "outputs": [],
   "source": [
    "# 모델 architecture 보기\n",
    "\n",
    "\n",
    "from IPython.display import SVG\n",
    "from keras.utils.vis_utils import model_to_dot\n",
    "\n",
    "%matplotlib inline\n",
    "\n",
    "SVG(model_to_dot(model, show_shapes=True).create(prog='dot', format='svg'))"
   ]
  },
  {
   "cell_type": "code",
   "execution_count": null,
   "metadata": {
    "colab": {},
    "colab_type": "code",
    "id": "6pXMmYcn2_xR"
   },
   "outputs": [],
   "source": []
  },
  {
   "cell_type": "code",
   "execution_count": null,
   "metadata": {
    "colab": {},
    "colab_type": "code",
    "id": "tC80_Q332_xU"
   },
   "outputs": [],
   "source": [
    "from keras.callbacks import EarlyStopping\n",
    "from keras.callbacks import ModelCheckpoint\n",
    "\n",
    "\n",
    "# moniter: 대상 값, mode: min/max, verbose=1 설정시 언제 멈췄는지 출력\n",
    "# patience: 성능없는 에폭 허용 범위, baseline: 값 설정\n",
    "\n",
    "#es = EarlyStopping(monitor='val_loss', mode='min')\n",
    "#es = EarlyStopping(monitor='val_loss', mode='min', verbose=1, patience=50)\n",
    "\n"
   ]
  },
  {
   "cell_type": "code",
   "execution_count": null,
   "metadata": {
    "colab": {},
    "colab_type": "code",
    "id": "x5PVXP-f2_xW"
   },
   "outputs": [],
   "source": [
    "es = EarlyStopping(monitor='val_loss', mode='min', verbose=1, patience=100)\n",
    "mc = ModelCheckpoint('best_model_pattern.h5', monitor='val_loss', mode='min', save_best_only=True)"
   ]
  },
  {
   "cell_type": "code",
   "execution_count": null,
   "metadata": {
    "colab": {},
    "colab_type": "code",
    "id": "-i3pTotJ2_xY",
    "outputId": "993ca236-d09e-4e06-c477-be23e47cb9ea"
   },
   "outputs": [
    {
     "name": "stdout",
     "output_type": "stream",
     "text": [
      "Epoch 1/50\n",
      "20/20 [==============================] - 59s 3s/step - loss: 1.3556 - acc: 0.5167 - val_loss: 1.5213 - val_acc: 0.4500\n",
      "Epoch 2/50\n",
      "20/20 [==============================] - 56s 3s/step - loss: 1.4636 - acc: 0.4500 - val_loss: 1.6483 - val_acc: 0.3900\n",
      "Epoch 3/50\n",
      "20/20 [==============================] - 57s 3s/step - loss: 1.3835 - acc: 0.4533 - val_loss: 1.7704 - val_acc: 0.3800\n",
      "Epoch 4/50\n",
      "20/20 [==============================] - 57s 3s/step - loss: 1.4579 - acc: 0.4667 - val_loss: 1.8449 - val_acc: 0.3200\n",
      "Epoch 5/50\n",
      "20/20 [==============================] - 59s 3s/step - loss: 1.3929 - acc: 0.5200 - val_loss: 1.6442 - val_acc: 0.3600\n",
      "Epoch 6/50\n",
      "20/20 [==============================] - 56s 3s/step - loss: 1.3999 - acc: 0.4667 - val_loss: 1.7846 - val_acc: 0.3200\n",
      "Epoch 7/50\n",
      "20/20 [==============================] - 56s 3s/step - loss: 1.4493 - acc: 0.4900 - val_loss: 2.0274 - val_acc: 0.3000\n",
      "Epoch 8/50\n",
      "20/20 [==============================] - 56s 3s/step - loss: 1.3620 - acc: 0.5233 - val_loss: 2.4594 - val_acc: 0.2400\n",
      "Epoch 9/50\n",
      "20/20 [==============================] - 55s 3s/step - loss: 1.3872 - acc: 0.5267 - val_loss: 2.0072 - val_acc: 0.3200\n",
      "Epoch 10/50\n",
      "20/20 [==============================] - 56s 3s/step - loss: 1.2759 - acc: 0.5833 - val_loss: 2.6131 - val_acc: 0.2700\n",
      "Epoch 11/50\n",
      "20/20 [==============================] - 56s 3s/step - loss: 1.2660 - acc: 0.5233 - val_loss: 1.7705 - val_acc: 0.3200\n",
      "Epoch 12/50\n",
      "20/20 [==============================] - 57s 3s/step - loss: 1.4153 - acc: 0.5000 - val_loss: 2.3912 - val_acc: 0.2700\n",
      "Epoch 13/50\n",
      "20/20 [==============================] - 63s 3s/step - loss: 1.3436 - acc: 0.5167 - val_loss: 1.8246 - val_acc: 0.3100\n",
      "Epoch 14/50\n",
      "20/20 [==============================] - 64s 3s/step - loss: 1.3228 - acc: 0.5456 - val_loss: 1.7512 - val_acc: 0.3700\n",
      "Epoch 15/50\n",
      "20/20 [==============================] - 56s 3s/step - loss: 1.3551 - acc: 0.4900 - val_loss: 1.9515 - val_acc: 0.3500\n",
      "Epoch 16/50\n",
      "20/20 [==============================] - 58s 3s/step - loss: 1.2234 - acc: 0.5367 - val_loss: 1.4320 - val_acc: 0.5300\n",
      "Epoch 17/50\n",
      "20/20 [==============================] - 56s 3s/step - loss: 1.2484 - acc: 0.5733 - val_loss: 2.2730 - val_acc: 0.3200\n",
      "Epoch 18/50\n",
      "20/20 [==============================] - 59s 3s/step - loss: 1.1493 - acc: 0.5700 - val_loss: 1.5771 - val_acc: 0.4300\n",
      "Epoch 19/50\n",
      "20/20 [==============================] - 56s 3s/step - loss: 1.3565 - acc: 0.5033 - val_loss: 1.7474 - val_acc: 0.4100\n",
      "Epoch 20/50\n",
      "20/20 [==============================] - 55s 3s/step - loss: 1.2419 - acc: 0.5433 - val_loss: 2.1049 - val_acc: 0.3200\n",
      "Epoch 21/50\n",
      "20/20 [==============================] - 4390s 219s/step - loss: 1.3441 - acc: 0.4700 - val_loss: 1.6471 - val_acc: 0.4000\n",
      "Epoch 22/50\n",
      "20/20 [==============================] - 66s 3s/step - loss: 1.2933 - acc: 0.5400 - val_loss: 1.7438 - val_acc: 0.4300\n",
      "Epoch 23/50\n",
      "20/20 [==============================] - 63s 3s/step - loss: 1.3037 - acc: 0.5233 - val_loss: 3.0975 - val_acc: 0.1900\n",
      "Epoch 24/50\n",
      "20/20 [==============================] - 64s 3s/step - loss: 1.1162 - acc: 0.5767 - val_loss: 1.5675 - val_acc: 0.4600\n",
      "Epoch 25/50\n",
      "20/20 [==============================] - 66s 3s/step - loss: 1.2070 - acc: 0.5833 - val_loss: 1.4712 - val_acc: 0.5000\n",
      "Epoch 26/50\n",
      "20/20 [==============================] - 59s 3s/step - loss: 1.2427 - acc: 0.5433 - val_loss: 2.0501 - val_acc: 0.3300\n",
      "Epoch 27/50\n",
      "20/20 [==============================] - 67s 3s/step - loss: 1.0911 - acc: 0.5967 - val_loss: 1.6574 - val_acc: 0.4300\n",
      "Epoch 28/50\n",
      "20/20 [==============================] - 64s 3s/step - loss: 1.1433 - acc: 0.6133 - val_loss: 1.2621 - val_acc: 0.5200\n",
      "Epoch 29/50\n",
      "20/20 [==============================] - 57s 3s/step - loss: 1.2425 - acc: 0.5045 - val_loss: 1.9453 - val_acc: 0.4100\n",
      "Epoch 30/50\n",
      "20/20 [==============================] - 63s 3s/step - loss: 1.2286 - acc: 0.5633 - val_loss: 1.3482 - val_acc: 0.5300\n",
      "Epoch 31/50\n",
      "20/20 [==============================] - 70s 4s/step - loss: 1.2220 - acc: 0.5967 - val_loss: 2.1656 - val_acc: 0.3000\n",
      "Epoch 32/50\n",
      "20/20 [==============================] - 94s 5s/step - loss: 1.1865 - acc: 0.5867 - val_loss: 1.9937 - val_acc: 0.3300\n",
      "Epoch 33/50\n",
      "20/20 [==============================] - 86s 4s/step - loss: 1.1407 - acc: 0.6133 - val_loss: 1.6730 - val_acc: 0.4000\n",
      "Epoch 34/50\n",
      "14/20 [====================>.........] - ETA: 35s - loss: 1.1366 - acc: 0.5429"
     ]
    }
   ],
   "source": [
    "hist = model.fit_generator(training_set,\n",
    "                         steps_per_epoch = 20, #20\n",
    "                         epochs = 50,  #1000\n",
    "                         validation_data = validation_set,\n",
    "                         validation_steps = 10,\n",
    "                         callbacks=[es,mc])\n",
    " "
   ]
  }
 ],
 "metadata": {
  "colab": {
   "name": "011_이미지_분류모델_(pattern).ipynb",
   "provenance": []
  },
  "kernelspec": {
   "display_name": "cpu_env",
   "language": "python",
   "name": "cpu_env"
  },
  "language_info": {
   "codemirror_mode": {
    "name": "ipython",
    "version": 3
   },
   "file_extension": ".py",
   "mimetype": "text/x-python",
   "name": "python",
   "nbconvert_exporter": "python",
   "pygments_lexer": "ipython3",
   "version": "3.7.7"
  }
 },
 "nbformat": 4,
 "nbformat_minor": 4
}
