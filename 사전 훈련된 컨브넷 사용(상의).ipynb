{
 "cells": [
  {
   "cell_type": "code",
   "execution_count": 1,
   "metadata": {},
   "outputs": [
    {
     "name": "stderr",
     "output_type": "stream",
     "text": [
      "Using TensorFlow backend.\n"
     ]
    }
   ],
   "source": [
    "import cv2\n",
    "import os\n",
    "import shutil\n",
    "import numpy as np\n",
    "import pandas as pd\n",
    "import tensorflow as tf\n",
    "import matplotlib.pyplot as plt\n",
    "import matplotlib.image as mpimg\n",
    "from PIL import Image\n",
    "from sklearn.model_selection import train_test_split\n",
    "from keras import layers, Input, models, optimizers\n",
    "from keras.models import Model, Sequential\n",
    "from keras.layers import MaxPooling2D, Conv2D\n",
    "from keras.layers import Activation, Dropout, Flatten, Dense\n",
    "from keras.callbacks import ModelCheckpoint\n",
    "from keras.layers.normalization import BatchNormalization\n",
    "from keras.preprocessing.image import ImageDataGenerator\n",
    "from keras_preprocessing import image"
   ]
  },
  {
   "cell_type": "markdown",
   "metadata": {},
   "source": [
    "VGG16 호출"
   ]
  },
  {
   "cell_type": "code",
   "execution_count": 2,
   "metadata": {},
   "outputs": [],
   "source": [
    "from keras.applications import VGG16\n",
    "\n",
    "conv_base = VGG16(weights = 'imagenet',\n",
    "                 include_top=False,\n",
    "                 input_shape=(150,150,3))"
   ]
  },
  {
   "cell_type": "markdown",
   "metadata": {},
   "source": [
    "train/ validation / test 디렉토리 설정"
   ]
  },
  {
   "cell_type": "code",
   "execution_count": 3,
   "metadata": {},
   "outputs": [],
   "source": [
    "base_dir = './train_upper_base/'\n",
    "train_dir = os.path.join(base_dir, 'train')\n",
    "validation_dir = os.path.join(base_dir, 'validation')\n",
    "test_dir = os.path.join(base_dir, 'test')\n",
    "\n",
    "datagen = ImageDataGenerator(rescale=1./255)\n",
    "batch_size = 20"
   ]
  },
  {
   "cell_type": "markdown",
   "metadata": {},
   "source": [
    "특성 추출"
   ]
  },
  {
   "cell_type": "code",
   "execution_count": 4,
   "metadata": {},
   "outputs": [],
   "source": [
    "def extract_features(directory,sample_count):\n",
    "    features = np.zeros(shape=(sample_count, 4, 4, 512))\n",
    "    labels = np.zeros(shape=(sample_count,4))\n",
    "    generator = datagen.flow_from_directory(\n",
    "        directory,\n",
    "        target_size=(150,150),\n",
    "        batch_size=batch_size,\n",
    "        class_mode='categorical')\n",
    "    i = 0\n",
    "    for inputs_batch, labels_batch in generator:\n",
    "        features_batch = conv_base.predict(inputs_batch)\n",
    "        features[i * batch_size : (i + 1) * batch_size] = features_batch\n",
    "        labels[i * batch_size : (i + 1) * batch_size] = labels_batch\n",
    "        i += 1\n",
    "        if i * batch_size >= sample_count:\n",
    "            break\n",
    "    return features, labels"
   ]
  },
  {
   "cell_type": "code",
   "execution_count": 5,
   "metadata": {},
   "outputs": [
    {
     "name": "stdout",
     "output_type": "stream",
     "text": [
      "Found 1290 images belonging to 4 classes.\n"
     ]
    }
   ],
   "source": [
    "train_sampel = 1290\n",
    "\n",
    "train_features, train_labels = extract_features(train_dir, train_sampel) #5096"
   ]
  },
  {
   "cell_type": "code",
   "execution_count": 6,
   "metadata": {},
   "outputs": [
    {
     "name": "stdout",
     "output_type": "stream",
     "text": [
      "Found 645 images belonging to 4 classes.\n"
     ]
    }
   ],
   "source": [
    "validation_sample = 645\n",
    "\n",
    "validation_features, validation_labels = extract_features(validation_dir, validation_sample) # 2548"
   ]
  },
  {
   "cell_type": "code",
   "execution_count": 7,
   "metadata": {},
   "outputs": [
    {
     "name": "stdout",
     "output_type": "stream",
     "text": [
      "Found 645 images belonging to 4 classes.\n"
     ]
    }
   ],
   "source": [
    "test_sample = 645\n",
    "\n",
    "test_features, test_labels = extract_features(test_dir, test_sample) #2547"
   ]
  },
  {
   "cell_type": "code",
   "execution_count": 8,
   "metadata": {},
   "outputs": [],
   "source": [
    "train_features = np.reshape(train_features,(train_sampel, 4 * 4 * 512))\n",
    "validation_features = np.reshape(validation_features,(validation_sample, 4 * 4 * 512))\n",
    "test_features = np.reshape(test_features,(test_sample, 4 * 4 * 512))"
   ]
  },
  {
   "cell_type": "markdown",
   "metadata": {},
   "source": [
    "학습"
   ]
  },
  {
   "cell_type": "code",
   "execution_count": 9,
   "metadata": {},
   "outputs": [],
   "source": [
    "from keras.callbacks import EarlyStopping\n",
    "from keras.callbacks import ModelCheckpoint\n",
    "es = EarlyStopping(monitor='val_loss', mode='min', verbose=1, patience=50)\n",
    "mc = ModelCheckpoint('best_model_pattern_0424.h5', monitor='val_loss', mode='min', save_best_only=True)"
   ]
  },
  {
   "cell_type": "code",
   "execution_count": 10,
   "metadata": {},
   "outputs": [],
   "source": [
    "from keras import models, layers, optimizers\n",
    "\n",
    "model = models.Sequential()\n",
    "model.add(layers.Dense(256, activation='relu', input_dim = 4 * 4 * 512))\n",
    "model.add(layers.Dropout(0.5))\n",
    "model.add(layers.Dense(4, activation='softmax'))\n",
    "model.compile(optimizer = optimizers.RMSprop(lr=2e-5),\n",
    "                         loss='categorical_crossentropy',\n",
    "                         metrics=['acc'])"
   ]
  },
  {
   "cell_type": "code",
   "execution_count": 11,
   "metadata": {
    "scrolled": false
   },
   "outputs": [
    {
     "name": "stdout",
     "output_type": "stream",
     "text": [
      "Train on 1290 samples, validate on 645 samples\n",
      "Epoch 1/500\n",
      "1290/1290 [==============================] - 2s 1ms/step - loss: 1.4563 - acc: 0.3566 - val_loss: 1.1613 - val_acc: 0.5256\n",
      "Epoch 2/500\n",
      "1290/1290 [==============================] - 1s 1ms/step - loss: 1.1337 - acc: 0.5178 - val_loss: 1.0181 - val_acc: 0.6000\n",
      "Epoch 3/500\n",
      "1290/1290 [==============================] - 2s 1ms/step - loss: 0.9552 - acc: 0.6202 - val_loss: 0.9354 - val_acc: 0.6186\n",
      "Epoch 4/500\n",
      "1290/1290 [==============================] - 2s 1ms/step - loss: 0.8299 - acc: 0.6806 - val_loss: 0.8970 - val_acc: 0.6434\n",
      "Epoch 5/500\n",
      "1290/1290 [==============================] - 2s 1ms/step - loss: 0.7320 - acc: 0.7395 - val_loss: 0.8448 - val_acc: 0.6729\n",
      "Epoch 6/500\n",
      "1290/1290 [==============================] - 2s 1ms/step - loss: 0.6606 - acc: 0.7674 - val_loss: 0.8080 - val_acc: 0.6853\n",
      "Epoch 7/500\n",
      "1290/1290 [==============================] - 2s 1ms/step - loss: 0.5845 - acc: 0.7953 - val_loss: 0.7842 - val_acc: 0.6961\n",
      "Epoch 8/500\n",
      "1290/1290 [==============================] - 1s 1ms/step - loss: 0.5589 - acc: 0.8147 - val_loss: 0.7596 - val_acc: 0.6977\n",
      "Epoch 9/500\n",
      "1290/1290 [==============================] - 2s 1ms/step - loss: 0.5146 - acc: 0.8240 - val_loss: 0.7534 - val_acc: 0.6961\n",
      "Epoch 10/500\n",
      "1290/1290 [==============================] - 2s 1ms/step - loss: 0.4874 - acc: 0.8256 - val_loss: 0.7324 - val_acc: 0.7070\n",
      "Epoch 11/500\n",
      "1290/1290 [==============================] - 2s 1ms/step - loss: 0.4492 - acc: 0.8574 - val_loss: 0.7009 - val_acc: 0.7163\n",
      "Epoch 12/500\n",
      "1290/1290 [==============================] - 1s 1ms/step - loss: 0.4312 - acc: 0.8535 - val_loss: 0.7028 - val_acc: 0.7209\n",
      "Epoch 13/500\n",
      "1290/1290 [==============================] - 2s 1ms/step - loss: 0.3965 - acc: 0.8791 - val_loss: 0.6819 - val_acc: 0.7256\n",
      "Epoch 14/500\n",
      "1290/1290 [==============================] - 2s 1ms/step - loss: 0.3797 - acc: 0.8814 - val_loss: 0.6760 - val_acc: 0.7349\n",
      "Epoch 15/500\n",
      "1290/1290 [==============================] - 2s 1ms/step - loss: 0.3446 - acc: 0.8946 - val_loss: 0.6613 - val_acc: 0.7318\n",
      "Epoch 16/500\n",
      "1290/1290 [==============================] - 2s 1ms/step - loss: 0.3396 - acc: 0.8992 - val_loss: 0.6606 - val_acc: 0.7349\n",
      "Epoch 17/500\n",
      "1290/1290 [==============================] - 2s 1ms/step - loss: 0.3370 - acc: 0.8953 - val_loss: 0.6507 - val_acc: 0.7333\n",
      "Epoch 18/500\n",
      "1290/1290 [==============================] - 2s 1ms/step - loss: 0.3080 - acc: 0.9078 - val_loss: 0.6428 - val_acc: 0.7395\n",
      "Epoch 19/500\n",
      "1290/1290 [==============================] - 2s 1ms/step - loss: 0.3030 - acc: 0.9147 - val_loss: 0.6405 - val_acc: 0.7535\n",
      "Epoch 20/500\n",
      "1290/1290 [==============================] - 2s 1ms/step - loss: 0.2780 - acc: 0.9217 - val_loss: 0.6530 - val_acc: 0.7333\n",
      "Epoch 21/500\n",
      "1290/1290 [==============================] - 1s 1ms/step - loss: 0.2708 - acc: 0.9124 - val_loss: 0.6385 - val_acc: 0.7426\n",
      "Epoch 22/500\n",
      "1290/1290 [==============================] - 1s 1ms/step - loss: 0.2469 - acc: 0.9295 - val_loss: 0.6424 - val_acc: 0.7225\n",
      "Epoch 23/500\n",
      "1290/1290 [==============================] - 2s 1ms/step - loss: 0.2416 - acc: 0.9318 - val_loss: 0.6403 - val_acc: 0.7287\n",
      "Epoch 24/500\n",
      "1290/1290 [==============================] - 1s 1ms/step - loss: 0.2352 - acc: 0.9318 - val_loss: 0.6184 - val_acc: 0.7535\n",
      "Epoch 25/500\n",
      "1290/1290 [==============================] - 2s 1ms/step - loss: 0.2104 - acc: 0.9419 - val_loss: 0.6225 - val_acc: 0.7442\n",
      "Epoch 26/500\n",
      "1290/1290 [==============================] - 1s 1ms/step - loss: 0.2115 - acc: 0.9403 - val_loss: 0.6150 - val_acc: 0.7550\n",
      "Epoch 27/500\n",
      "1290/1290 [==============================] - 2s 1ms/step - loss: 0.2073 - acc: 0.9419 - val_loss: 0.6126 - val_acc: 0.7488\n",
      "Epoch 28/500\n",
      "1290/1290 [==============================] - 2s 1ms/step - loss: 0.1836 - acc: 0.9543 - val_loss: 0.6260 - val_acc: 0.7426\n",
      "Epoch 29/500\n",
      "1290/1290 [==============================] - 2s 1ms/step - loss: 0.1879 - acc: 0.9426 - val_loss: 0.6242 - val_acc: 0.7457\n",
      "Epoch 30/500\n",
      "1290/1290 [==============================] - 2s 1ms/step - loss: 0.1811 - acc: 0.9550 - val_loss: 0.6134 - val_acc: 0.7395\n",
      "Epoch 31/500\n",
      "1290/1290 [==============================] - 1s 1ms/step - loss: 0.1591 - acc: 0.9636 - val_loss: 0.6036 - val_acc: 0.7628\n",
      "Epoch 32/500\n",
      "1290/1290 [==============================] - 2s 1ms/step - loss: 0.1579 - acc: 0.9612 - val_loss: 0.6170 - val_acc: 0.7457\n",
      "Epoch 33/500\n",
      "1290/1290 [==============================] - 2s 1ms/step - loss: 0.1604 - acc: 0.9566 - val_loss: 0.6283 - val_acc: 0.7442\n",
      "Epoch 34/500\n",
      "1290/1290 [==============================] - 2s 1ms/step - loss: 0.1500 - acc: 0.9674 - val_loss: 0.6246 - val_acc: 0.7411\n",
      "Epoch 35/500\n",
      "1290/1290 [==============================] - 2s 1ms/step - loss: 0.1438 - acc: 0.9605 - val_loss: 0.6046 - val_acc: 0.7659\n",
      "Epoch 36/500\n",
      "1290/1290 [==============================] - 2s 1ms/step - loss: 0.1326 - acc: 0.9690 - val_loss: 0.5998 - val_acc: 0.7612\n",
      "Epoch 37/500\n",
      "1290/1290 [==============================] - 2s 1ms/step - loss: 0.1289 - acc: 0.9674 - val_loss: 0.6000 - val_acc: 0.7488\n",
      "Epoch 38/500\n",
      "1290/1290 [==============================] - 2s 1ms/step - loss: 0.1265 - acc: 0.9713 - val_loss: 0.5993 - val_acc: 0.7612\n",
      "Epoch 39/500\n",
      "1290/1290 [==============================] - 1s 1ms/step - loss: 0.1209 - acc: 0.9705 - val_loss: 0.6095 - val_acc: 0.7550\n",
      "Epoch 40/500\n",
      "1290/1290 [==============================] - 2s 1ms/step - loss: 0.1094 - acc: 0.9806 - val_loss: 0.6011 - val_acc: 0.7643\n",
      "Epoch 41/500\n",
      "1290/1290 [==============================] - 2s 1ms/step - loss: 0.1117 - acc: 0.9744 - val_loss: 0.6067 - val_acc: 0.7643\n",
      "Epoch 42/500\n",
      "1290/1290 [==============================] - 1s 1ms/step - loss: 0.1106 - acc: 0.9775 - val_loss: 0.6026 - val_acc: 0.7550\n",
      "Epoch 43/500\n",
      "1290/1290 [==============================] - 2s 1ms/step - loss: 0.1022 - acc: 0.9783 - val_loss: 0.5934 - val_acc: 0.7597\n",
      "Epoch 44/500\n",
      "1290/1290 [==============================] - 1s 1ms/step - loss: 0.0935 - acc: 0.9853 - val_loss: 0.5957 - val_acc: 0.7659\n",
      "Epoch 45/500\n",
      "1290/1290 [==============================] - 2s 1ms/step - loss: 0.0936 - acc: 0.9845 - val_loss: 0.6098 - val_acc: 0.7597\n",
      "Epoch 46/500\n",
      "1290/1290 [==============================] - 1s 1ms/step - loss: 0.0869 - acc: 0.9829 - val_loss: 0.6255 - val_acc: 0.7504\n",
      "Epoch 47/500\n",
      "1290/1290 [==============================] - 2s 1ms/step - loss: 0.0886 - acc: 0.9829 - val_loss: 0.6040 - val_acc: 0.7597\n",
      "Epoch 48/500\n",
      "1290/1290 [==============================] - 2s 1ms/step - loss: 0.0833 - acc: 0.9822 - val_loss: 0.6098 - val_acc: 0.7705\n",
      "Epoch 49/500\n",
      "1290/1290 [==============================] - 2s 1ms/step - loss: 0.0812 - acc: 0.9884 - val_loss: 0.6012 - val_acc: 0.7643\n",
      "Epoch 50/500\n",
      "1290/1290 [==============================] - 2s 1ms/step - loss: 0.0815 - acc: 0.9829 - val_loss: 0.6140 - val_acc: 0.7659\n",
      "Epoch 51/500\n",
      "1290/1290 [==============================] - 2s 1ms/step - loss: 0.0704 - acc: 0.9884 - val_loss: 0.6081 - val_acc: 0.7581\n",
      "Epoch 52/500\n",
      "1290/1290 [==============================] - 2s 1ms/step - loss: 0.0746 - acc: 0.9860 - val_loss: 0.5979 - val_acc: 0.7752\n",
      "Epoch 53/500\n",
      "1290/1290 [==============================] - 2s 1ms/step - loss: 0.0705 - acc: 0.9876 - val_loss: 0.6089 - val_acc: 0.7736\n",
      "Epoch 54/500\n",
      "1290/1290 [==============================] - 2s 1ms/step - loss: 0.0653 - acc: 0.9922 - val_loss: 0.6132 - val_acc: 0.7767\n",
      "Epoch 55/500\n",
      "1290/1290 [==============================] - 2s 1ms/step - loss: 0.0607 - acc: 0.9930 - val_loss: 0.6134 - val_acc: 0.7643\n",
      "Epoch 56/500\n",
      "1290/1290 [==============================] - 2s 1ms/step - loss: 0.0584 - acc: 0.9922 - val_loss: 0.6121 - val_acc: 0.7674\n",
      "Epoch 57/500\n",
      "1290/1290 [==============================] - 2s 1ms/step - loss: 0.0607 - acc: 0.9907 - val_loss: 0.6234 - val_acc: 0.7721\n",
      "Epoch 58/500\n",
      "1290/1290 [==============================] - 1s 1ms/step - loss: 0.0493 - acc: 0.9969 - val_loss: 0.6169 - val_acc: 0.7736\n",
      "Epoch 59/500\n",
      "1290/1290 [==============================] - 2s 1ms/step - loss: 0.0485 - acc: 0.9969 - val_loss: 0.6223 - val_acc: 0.7690\n",
      "Epoch 60/500\n",
      "1290/1290 [==============================] - 2s 1ms/step - loss: 0.0510 - acc: 0.9938 - val_loss: 0.6188 - val_acc: 0.7736\n"
     ]
    },
    {
     "name": "stdout",
     "output_type": "stream",
     "text": [
      "Epoch 61/500\n",
      "1290/1290 [==============================] - 1s 1ms/step - loss: 0.0500 - acc: 0.9907 - val_loss: 0.6274 - val_acc: 0.7721\n",
      "Epoch 62/500\n",
      "1290/1290 [==============================] - 2s 1ms/step - loss: 0.0438 - acc: 0.9961 - val_loss: 0.6279 - val_acc: 0.7736\n",
      "Epoch 63/500\n",
      "1290/1290 [==============================] - 2s 1ms/step - loss: 0.0445 - acc: 0.9961 - val_loss: 0.6353 - val_acc: 0.7798\n",
      "Epoch 64/500\n",
      "1290/1290 [==============================] - 2s 1ms/step - loss: 0.0425 - acc: 0.9961 - val_loss: 0.6243 - val_acc: 0.7814\n",
      "Epoch 65/500\n",
      "1290/1290 [==============================] - 2s 1ms/step - loss: 0.0473 - acc: 0.9946 - val_loss: 0.6348 - val_acc: 0.7736\n",
      "Epoch 66/500\n",
      "1290/1290 [==============================] - 2s 1ms/step - loss: 0.0380 - acc: 0.9953 - val_loss: 0.6334 - val_acc: 0.7814\n",
      "Epoch 67/500\n",
      "1290/1290 [==============================] - 1s 1ms/step - loss: 0.0392 - acc: 0.9961 - val_loss: 0.6422 - val_acc: 0.7705\n",
      "Epoch 68/500\n",
      "1290/1290 [==============================] - 2s 1ms/step - loss: 0.0359 - acc: 0.9984 - val_loss: 0.6417 - val_acc: 0.7674\n",
      "Epoch 69/500\n",
      "1290/1290 [==============================] - 1s 1ms/step - loss: 0.0363 - acc: 0.9946 - val_loss: 0.6333 - val_acc: 0.7705\n",
      "Epoch 70/500\n",
      "1290/1290 [==============================] - 1s 1ms/step - loss: 0.0343 - acc: 0.9984 - val_loss: 0.6329 - val_acc: 0.7845\n",
      "Epoch 71/500\n",
      "1290/1290 [==============================] - 2s 1ms/step - loss: 0.0309 - acc: 0.9977 - val_loss: 0.6494 - val_acc: 0.7659\n",
      "Epoch 72/500\n",
      "1290/1290 [==============================] - 2s 1ms/step - loss: 0.0287 - acc: 0.9977 - val_loss: 0.6459 - val_acc: 0.7674\n",
      "Epoch 73/500\n",
      "1290/1290 [==============================] - 2s 1ms/step - loss: 0.0304 - acc: 0.9977 - val_loss: 0.6569 - val_acc: 0.7690\n",
      "Epoch 74/500\n",
      "1290/1290 [==============================] - 2s 1ms/step - loss: 0.0291 - acc: 0.9984 - val_loss: 0.6486 - val_acc: 0.7814\n",
      "Epoch 75/500\n",
      "1290/1290 [==============================] - 2s 1ms/step - loss: 0.0273 - acc: 0.9977 - val_loss: 0.6457 - val_acc: 0.7876\n",
      "Epoch 76/500\n",
      "1290/1290 [==============================] - 2s 1ms/step - loss: 0.0248 - acc: 0.9984 - val_loss: 0.6688 - val_acc: 0.7736\n",
      "Epoch 77/500\n",
      "1290/1290 [==============================] - 2s 1ms/step - loss: 0.0256 - acc: 0.9977 - val_loss: 0.6596 - val_acc: 0.7798\n",
      "Epoch 78/500\n",
      "1290/1290 [==============================] - 2s 1ms/step - loss: 0.0260 - acc: 0.9977 - val_loss: 0.6666 - val_acc: 0.7814\n",
      "Epoch 79/500\n",
      "1290/1290 [==============================] - 2s 1ms/step - loss: 0.0234 - acc: 0.9984 - val_loss: 0.6652 - val_acc: 0.7814\n",
      "Epoch 80/500\n",
      "1290/1290 [==============================] - 2s 1ms/step - loss: 0.0235 - acc: 0.9969 - val_loss: 0.6873 - val_acc: 0.7752\n",
      "Epoch 81/500\n",
      "1290/1290 [==============================] - 2s 1ms/step - loss: 0.0224 - acc: 0.9992 - val_loss: 0.6702 - val_acc: 0.7814\n",
      "Epoch 82/500\n",
      "1290/1290 [==============================] - 2s 1ms/step - loss: 0.0234 - acc: 0.9977 - val_loss: 0.6722 - val_acc: 0.7814\n",
      "Epoch 83/500\n",
      "1290/1290 [==============================] - 2s 1ms/step - loss: 0.0213 - acc: 1.0000 - val_loss: 0.6703 - val_acc: 0.7767\n",
      "Epoch 84/500\n",
      "1290/1290 [==============================] - 2s 1ms/step - loss: 0.0194 - acc: 1.0000 - val_loss: 0.6827 - val_acc: 0.7736\n",
      "Epoch 85/500\n",
      "1290/1290 [==============================] - 2s 1ms/step - loss: 0.0175 - acc: 0.9992 - val_loss: 0.6797 - val_acc: 0.7783\n",
      "Epoch 86/500\n",
      "1290/1290 [==============================] - 2s 1ms/step - loss: 0.0185 - acc: 0.9984 - val_loss: 0.6903 - val_acc: 0.7783\n",
      "Epoch 87/500\n",
      "1290/1290 [==============================] - 2s 1ms/step - loss: 0.0198 - acc: 0.9977 - val_loss: 0.6961 - val_acc: 0.7736\n",
      "Epoch 88/500\n",
      "1290/1290 [==============================] - 2s 1ms/step - loss: 0.0211 - acc: 0.9977 - val_loss: 0.6729 - val_acc: 0.7829\n",
      "Epoch 89/500\n",
      "1290/1290 [==============================] - 2s 1ms/step - loss: 0.0164 - acc: 0.9984 - val_loss: 0.7061 - val_acc: 0.7721\n",
      "Epoch 90/500\n",
      "1290/1290 [==============================] - 1s 1ms/step - loss: 0.0163 - acc: 0.9992 - val_loss: 0.6913 - val_acc: 0.7814\n",
      "Epoch 91/500\n",
      "1290/1290 [==============================] - 2s 1ms/step - loss: 0.0159 - acc: 1.0000 - val_loss: 0.6906 - val_acc: 0.7814\n",
      "Epoch 92/500\n",
      "1290/1290 [==============================] - 2s 1ms/step - loss: 0.0142 - acc: 1.0000 - val_loss: 0.7142 - val_acc: 0.7721\n",
      "Epoch 93/500\n",
      "1290/1290 [==============================] - 2s 1ms/step - loss: 0.0133 - acc: 1.0000 - val_loss: 0.7033 - val_acc: 0.7736\n",
      "Epoch 00093: early stopping\n"
     ]
    }
   ],
   "source": [
    "history = model.fit(train_features, train_labels,\n",
    "                   epochs=500,\n",
    "                   batch_size=20,\n",
    "                   validation_data=(validation_features, validation_labels),\n",
    "                   callbacks=[es,mc])"
   ]
  },
  {
   "cell_type": "markdown",
   "metadata": {},
   "source": [
    "모델 저장"
   ]
  },
  {
   "cell_type": "code",
   "execution_count": 14,
   "metadata": {},
   "outputs": [],
   "source": [
    "model.save('upper_9978.h5')"
   ]
  },
  {
   "cell_type": "markdown",
   "metadata": {},
   "source": [
    "정확도 / 손실 그래프"
   ]
  },
  {
   "cell_type": "code",
   "execution_count": 13,
   "metadata": {},
   "outputs": [
    {
     "data": {
      "image/png": "[encoded data removed]",
      "text/plain": [
       "<Figure size 432x288 with 1 Axes>"
      ]
     },
     "metadata": {
      "needs_background": "light"
     },
     "output_type": "display_data"
    },
    {
     "data": {
      "image/png": "[encoded data removed]",
      "text/plain": [
       "<Figure size 432x288 with 1 Axes>"
      ]
     },
     "metadata": {
      "needs_background": "light"
     },
     "output_type": "display_data"
    }
   ],
   "source": [
    "acc = history.history['acc']\n",
    "val_acc = history.history['val_acc']\n",
    "loss = history.history['loss']\n",
    "val_loss = history.history['val_loss']\n",
    "epochs = range(1, len(acc) + 1)\n",
    "\n",
    "plt.plot(epochs, acc, 'bo', label = 'Training acc')\n",
    "plt.plot(epochs, val_acc, 'b', label = 'Validation acc')\n",
    "# plt.tilte('Training and validation accuracy')\n",
    "plt.legend()\n",
    "\n",
    "plt.figure()\n",
    "\n",
    "plt.plot(epochs, loss, 'bo', label = 'Training loss')\n",
    "plt.plot(epochs, val_loss, 'b', label = 'Validation loss')\n",
    "# plt.tilte('Training and validation loss')\n",
    "plt.legend()\n",
    "\n",
    "plt.show()"
   ]
  }
 ],
 "metadata": {
  "kernelspec": {
   "display_name": "[CPU_ENV]",
   "language": "python",
   "name": "cpu_env"
  },
  "language_info": {
   "codemirror_mode": {
    "name": "ipython",
    "version": 3
   },
   "file_extension": ".py",
   "mimetype": "text/x-python",
   "name": "python",
   "nbconvert_exporter": "python",
   "pygments_lexer": "ipython3",
   "version": "3.6.10"
  }
 },
 "nbformat": 4,
 "nbformat_minor": 4
}
